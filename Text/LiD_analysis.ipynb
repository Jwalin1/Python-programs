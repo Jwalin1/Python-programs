{
  "nbformat": 4,
  "nbformat_minor": 0,
  "metadata": {
    "colab": {
      "provenance": [],
      "toc_visible": true
    },
    "kernelspec": {
      "name": "python3",
      "display_name": "Python 3"
    },
    "language_info": {
      "name": "python"
    }
  },
  "cells": [
    {
      "cell_type": "code",
      "execution_count": null,
      "metadata": {
        "id": "1axL227SXwvB"
      },
      "outputs": [],
      "source": [
        "import re\n",
        "import io\n",
        "import PIL\n",
        "import enum\n",
        "import requests\n",
        "import dataclasses\n",
        "import collections\n",
        "import numpy as np\n",
        "import matplotlib.pyplot as plt\n",
        "import plotly.graph_objects as go\n",
        "\n",
        "from tqdm.auto import tqdm\n",
        "from typing import Callable\n",
        "from bs4 import BeautifulSoup"
      ]
    },
    {
      "cell_type": "markdown",
      "source": [
        "## Get the question and answers"
      ],
      "metadata": {
        "id": "j9r2DROlZHBf"
      }
    },
    {
      "cell_type": "code",
      "source": [
        "# Define the structure to store the questions as a dataclass.\n",
        "@dataclasses.dataclass\n",
        "class QuestionData:\n",
        "    number: int\n",
        "    catalog_identifier: str  # number or state code\n",
        "    question: str\n",
        "    options: list[str]\n",
        "    answer_index: int\n",
        "    question_image: np.ndarray | None\n",
        "    failure_rate: float | None = None\n",
        "\n",
        "    @property\n",
        "    def answer(self) -> str:\n",
        "        return self.options[self.answer_index]\n",
        "\n",
        "    @property\n",
        "    def num_with_text(self) -> str:\n",
        "        return f'Q{self.number}: {self.question}'"
      ],
      "metadata": {
        "id": "kyuBqiJpQOv3"
      },
      "execution_count": null,
      "outputs": []
    },
    {
      "cell_type": "code",
      "source": [
        "_BASE_URL = 'https://www.lebenindeutschland.eu'\n",
        "_QUESTION_CATALOG_IDS = list(map(str, range(1, 11))) + ['by']\n",
        "\n",
        "\n",
        "def get_questions(question_catalogs_ids: list[str]) -> list[QuestionData]:\n",
        "    questions = []\n",
        "\n",
        "    for catalog_id in tqdm(question_catalogs_ids):\n",
        "        url = f'{_BASE_URL}/fragenkatalog/{catalog_id}'\n",
        "        r = requests.get(url)\n",
        "        soup = BeautifulSoup(r.content, 'html.parser')\n",
        "\n",
        "        question_blocks = soup.select(\"div[id^='frage-']\")\n",
        "        for block in question_blocks:\n",
        "            question_full_text = block.select_one('h3').get_text(strip=True)\n",
        "            question_full_text = question_full_text.replace('\\u2009', '')\n",
        "            question_number, question_text = question_full_text.split(': ', 1)\n",
        "            question_number = int(question_number.split('№')[-1])\n",
        "\n",
        "            options_list = []\n",
        "            option_elements = block.select('div.flex.flex-col.gap-1 > div.py-1.pr-2.flex.gap-2')\n",
        "            for option_div in option_elements:\n",
        "                # Extract the text from the second child div (the actual answer text)\n",
        "                option_text_element = option_div.select_one(\"div:nth-child(2)\")\n",
        "                if option_text_element:\n",
        "                    option_text = option_text_element.get_text(strip=True)\n",
        "                    options_list.append(option_text)\n",
        "\n",
        "                    # Check if this is the correct answer div (has the green background class)\n",
        "                    if 'bg-green-100' in option_div.get('class', []):\n",
        "                        answer_index = len(options_list) - 1\n",
        "\n",
        "            img_element = block.select_one('div.mb-6 img')\n",
        "            if img_element:\n",
        "                img_src = img_element.get('src')\n",
        "                full_img_url = _BASE_URL + img_src\n",
        "                img_response = requests.get(full_img_url, timeout=10)\n",
        "                img_response.raise_for_status()\n",
        "                raw_img = img_response.content\n",
        "                img = np.array(PIL.Image.open(io.BytesIO(raw_img)))\n",
        "            else:\n",
        "                img = None\n",
        "\n",
        "\n",
        "            questions.append(\n",
        "                QuestionData(\n",
        "                    question_number,\n",
        "                    catalog_id,\n",
        "                    question_text,\n",
        "                    options_list,\n",
        "                    answer_index,\n",
        "                    img,\n",
        "                )\n",
        "            )\n",
        "    return questions\n",
        "\n",
        "\n",
        "question_number_to_question_data = {}\n",
        "for question in get_questions(_QUESTION_CATALOG_IDS):\n",
        "    # State specific questions again start with 1,\n",
        "    # so their numbers need to be adjusted for simplifying the logic.\n",
        "    if question.catalog_identifier == 'by':  question.number += 300\n",
        "    question_number_to_question_data[question.number] = question\n",
        "\n",
        "total_questions = len(question_number_to_question_data)\n",
        "# questions = list(question_number_to_question_data.values())\n",
        "print('total questions = ', len(question_number_to_question_data))"
      ],
      "metadata": {
        "id": "cBPDRhncYJl2"
      },
      "execution_count": null,
      "outputs": []
    },
    {
      "cell_type": "markdown",
      "source": [
        "## Practice test"
      ],
      "metadata": {
        "id": "vp1QPt-9j3yF"
      }
    },
    {
      "cell_type": "code",
      "source": [
        "def conduct_test(\n",
        "    question_numbers: list[int],\n",
        "    question_number_to_question_data: dict[int, QuestionData]\n",
        "):\n",
        "    correct_count, wrongly_answered = 0, []\n",
        "    for question_index, question_number in enumerate(question_numbers, start=1):\n",
        "        question_data = question_number_to_question_data[question_number]\n",
        "        options = np.array(question_data.options)\n",
        "        # Randomize option sequence but preserve the currect choice.\n",
        "        random_indices = list(np.random.permutation(len(question_data.options)))\n",
        "        print(f'{question_index}) {question_data.num_with_text}')\n",
        "        for i, option in enumerate(options[random_indices]): print(f'{i+1}: {option}')\n",
        "        while True:\n",
        "            option = input('enter option[1-4]: ')\n",
        "            if not option.isdigit():  continue\n",
        "            if not int(option) in range(1,5):  continue\n",
        "            break\n",
        "        selected_option = int(option) - 1\n",
        "        correct_option = random_indices.index(question_data.answer_index)\n",
        "        if selected_option == correct_option:\n",
        "            print('\\033[34mcorrect\\033[0m', end='\\n\\n')\n",
        "            correct_count += 1\n",
        "        else:\n",
        "            print(f'\\033[31mwrong\\033[0m, the correct option is {correct_option+1}', end='\\n\\n')\n",
        "            wrongly_answered.append(question_number)\n",
        "    print(f'correctly answered {correct_count} out of {len(question_numbers)}')\n",
        "    print(f'{len(wrongly_answered)} answers were wrong, the wrongly answered question numbers are:')\n",
        "    print(sorted(list(map(int, wrongly_answered))))\n",
        "\n",
        "\n",
        "# # Select one question per catalog.\n",
        "question_numbers = [i*30+np.random.choice(np.arange(30), 3, replace=False) for i in range(10)]\n",
        "question_numbers += [300+np.random.choice(np.arange(10), 3, replace=False)]  # State specific questions.\n",
        "question_numbers = np.array(question_numbers).flatten() + 1\n",
        "np.random.shuffle(question_numbers[:30])\n",
        "# conduct_test(question_numbers, question_number_to_question_data)"
      ],
      "metadata": {
        "id": "7Kzc3zEzj8VL"
      },
      "execution_count": null,
      "outputs": []
    },
    {
      "cell_type": "markdown",
      "source": [
        "## Data Analysis"
      ],
      "metadata": {
        "id": "MeUj_H5QZkKG"
      }
    },
    {
      "cell_type": "markdown",
      "source": [
        "### Always correct words"
      ],
      "metadata": {
        "id": "pmjqXMzrPfJC"
      }
    },
    {
      "cell_type": "markdown",
      "source": [
        "The option is correct if it contains any of these words"
      ],
      "metadata": {
        "id": "QUw3baOwPjJm"
      }
    },
    {
      "cell_type": "code",
      "source": [
        "def get_always_correct_word_to_question_numbers(\n",
        "        question_number_to_question_data: dict[int, QuestionData]\n",
        ") -> dict[str, list[int]]:\n",
        "    words_in_correct_option, words_in_wrong_options = [], []\n",
        "    for question_number, question_data in question_number_to_question_data.items():\n",
        "        words_in_correct_option.extend(question_data.answer.split())\n",
        "        for option in question_data.options:\n",
        "            if option != question_data.answer:\n",
        "                words_in_wrong_options.extend(option.split())\n",
        "    words_only_in_correct_option = set(words_in_correct_option) - set(words_in_wrong_options)\n",
        "\n",
        "    always_correct_word_to_question_numbers = collections.defaultdict(list)\n",
        "    for question_number, question_data in question_number_to_question_data.items():\n",
        "        for word in words_only_in_correct_option:\n",
        "            if word in question_data.answer.split():\n",
        "                always_correct_word_to_question_numbers[word].append(question_number)\n",
        "\n",
        "    # return the dict sorted by the questions it can answer.\n",
        "    always_correct_word_to_question_numbers = dict(\n",
        "        sorted(\n",
        "            always_correct_word_to_question_numbers.items(),\n",
        "            key=lambda item: len(item[1]),\n",
        "            reverse=True\n",
        "        )\n",
        "    )\n",
        "    return always_correct_word_to_question_numbers\n",
        "\n",
        "always_correct_word_to_question_numbers = get_always_correct_word_to_question_numbers(\n",
        "    question_number_to_question_data\n",
        ")\n",
        "questions_covered = set(\n",
        "    question_number for question_numbers in always_correct_word_to_question_numbers.values()\n",
        "    for question_number in question_numbers\n",
        ")\n",
        "print(len(questions_covered))\n",
        "\n",
        "# print top 10 results\n",
        "for word, question_numbers in list(always_correct_word_to_question_numbers.items())[:10]:\n",
        "    print(f'{word}: {question_numbers}')"
      ],
      "metadata": {
        "id": "haVP95BQLtgw"
      },
      "execution_count": null,
      "outputs": []
    },
    {
      "cell_type": "markdown",
      "source": [
        "### QuestionDatas containing images"
      ],
      "metadata": {
        "id": "JYw8QvcSNNzM"
      }
    },
    {
      "cell_type": "code",
      "source": [
        "def show_image_questions(questions: list[QuestionData]):\n",
        "    for question in questions:\n",
        "        if (question_image:=question.question_image) is not None:\n",
        "            # show the question n\n",
        "            print(f'Q{question.number}: {question.question}')\n",
        "            plt.imshow(question_image)\n",
        "            plt.show()\n",
        "            for option in (options:=question.options):\n",
        "                if option == question.answer:\n",
        "                    print(f'\\033[33m{option}\\033[0m')\n",
        "                else:\n",
        "                    print(option)\n",
        "            print()\n",
        "\n",
        "# show_image_questions(question_number_to_question_data.values())"
      ],
      "metadata": {
        "collapsed": true,
        "id": "PJ-7oULINSYd"
      },
      "execution_count": null,
      "outputs": []
    },
    {
      "cell_type": "markdown",
      "source": [
        "### Frequency of shortest/longest option being the correct answer"
      ],
      "metadata": {
        "id": "eW6WyTaVZors"
      }
    },
    {
      "cell_type": "code",
      "source": [
        "def get_correct_option_lengths(questions: list[QuestionData]):\n",
        "    total_shortest_correct, total_longest_correct, other = 0, 0, 0\n",
        "    for question in questions:\n",
        "        option_lengths = list(map(len, question.options))\n",
        "        ans_id = question.answer_index\n",
        "        if ans_id == np.argmin(option_lengths):\n",
        "            total_shortest_correct += 1\n",
        "        elif ans_id == np.argmax(option_lengths):\n",
        "            total_longest_correct += 1\n",
        "        else:\n",
        "            other += 1\n",
        "    assert total_shortest_correct + total_longest_correct + other == len(questions)\n",
        "    return total_shortest_correct, total_longest_correct, other\n",
        "\n",
        "total_shortest_correct, total_longest_correct, other = get_correct_option_lengths(\n",
        "    question_number_to_question_data.values()\n",
        ")\n",
        "print(f'shortest_correct = {total_shortest_correct} = {total_shortest_correct/total_questions*100:.2f}%')\n",
        "print(f'longest_correct = {total_longest_correct} = {total_longest_correct/total_questions*100:.2f}%')\n",
        "print(f'other = {other} = {other/total_questions*100:.2f}%')"
      ],
      "metadata": {
        "id": "vA5JVDu7ZaCH"
      },
      "execution_count": null,
      "outputs": []
    },
    {
      "cell_type": "code",
      "source": [
        "def get_option_to_count(questions: list[QuestionData]):\n",
        "    option_to_count = collections.defaultdict(int)\n",
        "    for question in questions:\n",
        "        option_to_count[question.answer] += 1\n",
        "    return option_to_count\n",
        "\n",
        "option_to_count = get_option_to_count(question_number_to_question_data.values())\n",
        "# filter recurring answers\n",
        "option_to_count = {option: count for option, count in option_to_count.items() if count > 1}\n",
        "option_to_count = dict(sorted(option_to_count.items(), key=lambda item: item[1], reverse=True))\n",
        "print(option_to_count)"
      ],
      "metadata": {
        "id": "Yny7D_dj5t2g"
      },
      "execution_count": null,
      "outputs": []
    },
    {
      "cell_type": "markdown",
      "source": [
        "Not a very useful result :/"
      ],
      "metadata": {
        "id": "3GCPPnNZbvaf"
      }
    },
    {
      "cell_type": "markdown",
      "source": [
        "### Filter question based on words"
      ],
      "metadata": {
        "id": "aSU35W4Qc9Lx"
      }
    },
    {
      "cell_type": "code",
      "source": [
        "class FilterOption(enum.StrEnum):\n",
        "    QUES_ONLY = enum.auto()\n",
        "    OPT_ONLY_SINGLE = enum.auto()\n",
        "    OPT_ONLY_COLLECTIVE = enum.auto()\n",
        "    CORRECT_ONLY = enum.auto()\n",
        "    FAILURE_RATE = enum.auto()\n",
        "\n",
        "def filter_questions(\n",
        "    questions: list[QuestionData],\n",
        "    filter_func: Callable[[str], bool],\n",
        "    filter_option: FilterOption,\n",
        ") -> list[int]:\n",
        "    filtered_question_numbers = []\n",
        "    for question in questions:\n",
        "        if filter_option == FilterOption.QUES_ONLY:\n",
        "            if filter_func(question.question):\n",
        "                filtered_question_numbers.append(question.number)\n",
        "        elif filter_option == FilterOption.OPT_ONLY_SINGLE:\n",
        "            if any(map(filter_func, question.options)):\n",
        "                filtered_question_numbers.append(question.number)\n",
        "        elif filter_option == FilterOption.OPT_ONLY_COLLECTIVE:\n",
        "            if filter_func(question.options):\n",
        "                filtered_question_numbers.append(question.number)\n",
        "        elif filter_option == FilterOption.CORRECT_ONLY:\n",
        "            if filter_func(question.answer):\n",
        "                filtered_question_numbers.append(question.number)\n",
        "        elif filter_option == FilterOption.FAILURE_RATE:\n",
        "            if filter_func(question.failure_rate):\n",
        "                filtered_question_numbers.append(question.number)\n",
        "    return np.array(filtered_question_numbers)"
      ],
      "metadata": {
        "id": "7XdPkzUqazV7"
      },
      "execution_count": null,
      "outputs": []
    },
    {
      "cell_type": "code",
      "source": [
        "word_matcher = lambda option: 'nicht' in option\n",
        "is_digit = lambda option: option.isdigit()\n",
        "has_year = lambda option: any(\n",
        "    len(word)==4 and word.isdigit() for word in option.replace('.', ' ').split()\n",
        ")\n",
        "# Check if all options have digits.\n",
        "has_digit = lambda options: all(\n",
        "    any(char.isdigit() for char in option) for option in options\n",
        ")\n",
        "def is_name(option):\n",
        "    if len(words:=option.split()) == 2:\n",
        "        name, surname = words\n",
        "        return name.istitle() and surname.istitle()\n",
        "    return False\n",
        "\n",
        "# Check for one option being longer than others. Use with collective options only.\n",
        "def relative_longer_than(options: list[str], ratio:float=1.7):\n",
        "    options_length = np.array(list(map(len, options)))\n",
        "    return options_length.max() > ratio * options_length.mean()\n",
        "\n",
        "# Test a filter function.\n",
        "question_numbers = filter_questions(\n",
        "    question_number_to_question_data.values(),\n",
        "    filter_func=word_matcher, filter_option=FilterOption.QUES_ONLY\n",
        ")\n",
        "print(question_numbers)"
      ],
      "metadata": {
        "id": "uHanBOGexThP"
      },
      "execution_count": null,
      "outputs": []
    },
    {
      "cell_type": "code",
      "source": [
        "ques_words_of_interest = [\n",
        "    'nicht',  # For questions that ask the negation as a confusion tactic.\n",
        "    'heiß',   # For questions that ask the name of something.\n",
        "    'verb.*?t',  # 'veriet' or 'verbot' for questions regarding forbidding.\n",
        "    'Abkürzung',  # Short forms.\n",
        "    '„.*?“', # Quoted questions,\n",
        "    'minister',\n",
        "    'Regierung',\n",
        "    'Bund',\n",
        "    'Hitler',\n",
        "    'Weltkrieg',\n",
        "    'Arbeit',\n",
        "    'jüd',\n",
        "    'Mauer',\n",
        "    'Kind',\n",
        "    'Schul'\n",
        "    'bedeut',\n",
        "    'Ehe',  # Questions about marriage.\n",
        "    'Nachbar',  # Neighboring counties.\n",
        "]\n",
        "\n",
        "options_words_of_interest = [\n",
        "    'Hitler',\n",
        "    'Gemein',\n",
        "    'Berlin',\n",
        "    'Bund',\n",
        "    'spruch',\n",
        "    'Abend',\n",
        "    'Eltern',\n",
        "    'wirtschaft',\n",
        "    'gleich',\n",
        "]"
      ],
      "metadata": {
        "id": "Jd2LT2zwfSRT"
      },
      "execution_count": null,
      "outputs": []
    },
    {
      "cell_type": "markdown",
      "source": [
        "Find question indices for words of interest"
      ],
      "metadata": {
        "id": "Zdoz-M2mn11U"
      }
    },
    {
      "cell_type": "code",
      "source": [
        "# You can use `lambda option: word in option` as `filter_func` but it is\n",
        "# not as flexible as regex and doest allow for string matching.\n",
        "\n",
        "filter_name_to_question_numbers = {'no filter': filter_questions(\n",
        "        question_number_to_question_data.values(),\n",
        "        filter_func=lambda option: True, filter_option=FilterOption.QUES_ONLY\n",
        "    )\n",
        "}\n",
        "\n",
        "filter_name_to_question_numbers |= {\n",
        "    f'q_{word}': filter_questions(\n",
        "        question_number_to_question_data.values(),\n",
        "        filter_func=lambda option: bool(re.search(word, option)),\n",
        "        filter_option= FilterOption.QUES_ONLY\n",
        "    )\n",
        "    for word in ques_words_of_interest\n",
        "}\n",
        "\n",
        "filter_name_to_question_numbers |= {\n",
        "    f'o_{word}': filter_questions(\n",
        "        question_number_to_question_data.values(),\n",
        "        filter_func=lambda option: bool(re.search(word, option)),\n",
        "        filter_option= FilterOption.OPT_ONLY_SINGLE\n",
        "    )\n",
        "    for word in options_words_of_interest\n",
        "}\n",
        "\n",
        "filter_name_to_question_numbers |= {\n",
        "    'digits in options': filter_questions(\n",
        "        question_number_to_question_data.values(),\n",
        "        filter_func=has_digit, filter_option=FilterOption.OPT_ONLY_COLLECTIVE\n",
        "    )\n",
        "}\n",
        "\n",
        "filter_name_to_question_numbers |= {\n",
        "    'one long option': filter_questions(\n",
        "        question_number_to_question_data.values(),\n",
        "        filter_func=relative_longer_than, filter_option=FilterOption.OPT_ONLY_COLLECTIVE\n",
        "    )\n",
        "}\n",
        "\n",
        "filter_name_to_question_numbers |= {\n",
        "    'is name': filter_questions(\n",
        "        question_number_to_question_data.values(),\n",
        "        filter_func=is_name, filter_option=FilterOption.CORRECT_ONLY\n",
        "    )\n",
        "}\n",
        "\n",
        "filter_name_to_counts = {\n",
        "    filter_name: len(question_indices)\n",
        "    for filter_name, question_indices in filter_name_to_question_numbers.items()\n",
        "}\n",
        "print(filter_name_to_counts)"
      ],
      "metadata": {
        "id": "zMQdKV6EjKFp"
      },
      "execution_count": null,
      "outputs": []
    },
    {
      "cell_type": "markdown",
      "source": [
        "### Visualize"
      ],
      "metadata": {
        "id": "f4BmjV9yhp5C"
      }
    },
    {
      "cell_type": "code",
      "source": [
        "def scatter_questions(\n",
        "    question_number_to_data: dict[int, QuestionData],\n",
        "    filter_name_to_question_numbers: dict[str, list[int]]\n",
        "):\n",
        "    fig = go.Figure()\n",
        "\n",
        "    for fig_index, (filter_name, question_numbers) in enumerate(\n",
        "        filter_name_to_question_numbers.items()\n",
        "    ):\n",
        "        if len(question_numbers) == 0:  # No questions found for this word.\n",
        "            fig.add_trace(go.Scatter(x=[], y=[], visible=False))\n",
        "            continue\n",
        "\n",
        "        bin_indices = question_numbers // 31\n",
        "        heights = ((question_numbers-1) % 30)\n",
        "        x_positions = 30 * (bin_indices+0.5)\n",
        "        hovertexts = []\n",
        "\n",
        "        for question_data in [\n",
        "            question_number_to_data[question_number]\n",
        "            for question_number in question_numbers\n",
        "        ]:\n",
        "            hovertext = question_data.num_with_text + '<br><br>'\n",
        "            for option in question_data.options:\n",
        "                if option == question_data.answer:\n",
        "                    hovertext += f'<span style=\"color: yellow;\">{option}</span><br>'\n",
        "                else:\n",
        "                    hovertext += f'{option}<br>'\n",
        "            hovertexts.append(hovertext)\n",
        "\n",
        "        fig.add_trace(\n",
        "            go.Scatter(\n",
        "                x=x_positions, y=heights,\n",
        "                mode='text', text=question_numbers.astype(str), textfont=dict(size=14),\n",
        "                hovertext=hovertexts, hoverinfo='text',\n",
        "                visible=(fig_index==0)  # Only first trace visible initially.\n",
        "            )\n",
        "        )\n",
        "\n",
        "    dropdown_buttons = []  # Create dropdown buttons for each word of interest.\n",
        "    for i, filter_name in enumerate(filter_name_to_question_numbers):\n",
        "        visibility = [False] * len(filter_name_to_question_numbers)\n",
        "        visibility[i] = True\n",
        "\n",
        "        if filter_name.startswith('q_'):\n",
        "            title = f'Questions containing \"{filter_name[2:]}\"'\n",
        "        elif filter_name.startswith('o_'):\n",
        "            title = f'Options containing \"{filter_name[2:]}\"'\n",
        "        elif 'option' in filter_name:  # Special case for numeric options.\n",
        "            title = f'Questions containing {filter_name}'\n",
        "        else:\n",
        "            title = filter_name\n",
        "        dropdown_buttons.append(\n",
        "            dict(\n",
        "                label=filter_name,\n",
        "                method='update',\n",
        "                args=[{'visible': visibility}, {'title': title}],\n",
        "            )\n",
        "        )\n",
        "\n",
        "    tick_vals = 30 * np.arange(1, 11)\n",
        "    fig.update_layout(\n",
        "        xaxis=dict(title='Question number', tickvals=tick_vals, ticktext=tick_vals),\n",
        "        yaxis=dict(visible=False), updatemenus=[dict(buttons=dropdown_buttons, x=0.0)],\n",
        "        title=dropdown_buttons[0]['args'][1]['title'] if dropdown_buttons else '',\n",
        "    )\n",
        "\n",
        "    fig.show()\n",
        "\n",
        "\n",
        "scatter_questions(question_number_to_question_data, filter_name_to_question_numbers)"
      ],
      "metadata": {
        "id": "U5rzbM8igEpb"
      },
      "execution_count": null,
      "outputs": []
    },
    {
      "cell_type": "markdown",
      "source": [
        "Questions involving year"
      ],
      "metadata": {
        "id": "H5NyDVGIQano"
      }
    },
    {
      "cell_type": "code",
      "source": [
        "def get_year_to_question_indices(question_number_to_data: dict[int, QuestionData]):\n",
        "    year_question_numbers = filter_questions(\n",
        "            question_number_to_data.values(),\n",
        "            filter_func=has_year, filter_option=FilterOption.CORRECT_ONLY\n",
        "    )\n",
        "\n",
        "    year_to_question_numbers = collections.defaultdict(list)\n",
        "    for question_number in year_question_numbers:\n",
        "        answer = question_number_to_data[question_number].answer\n",
        "        for word in answer.replace('.', ' ').split():\n",
        "            if len(word) == 4 and word.isdigit():\n",
        "                year_to_question_numbers[int(word)].append(question_number)\n",
        "    return year_to_question_numbers\n",
        "\n",
        "\n",
        "year_to_question_numbers = get_year_to_question_indices(question_number_to_question_data)\n",
        "# sort based on key\n",
        "year_to_question_numbers = dict(sorted(year_to_question_numbers.items()))\n",
        "print(list(map(int, year_to_question_numbers)))\n",
        "del year_to_question_numbers[1700]  # False positive.\n",
        "# Add 219."
      ],
      "metadata": {
        "id": "R6R0OVopHV8N",
        "collapsed": true
      },
      "execution_count": null,
      "outputs": []
    },
    {
      "cell_type": "code",
      "source": [
        "def plot_chronological_questions(\n",
        "    year_to_question_numbers: dict[int, list[int]],\n",
        "    question_number_to_data: dict[int, QuestionData],\n",
        "):\n",
        "    year_to_question_numbers = dict(sorted(year_to_question_numbers.items()))\n",
        "    fig = go.Figure()\n",
        "\n",
        "    x_pos_year, y_positions, all_question_numbers, hovertexts = [], [], [], []\n",
        "    for year, question_list in year_to_question_numbers.items():\n",
        "        for stack_index, question_number in enumerate(question_list):\n",
        "            x_pos_year.append(year)\n",
        "            y_positions.append(stack_index)\n",
        "            all_question_numbers.append(str(question_number))\n",
        "            question = question_number_to_data[question_number]\n",
        "            hovertext = question.num_with_text + '<br><br>'\n",
        "            for option in question.options:\n",
        "                if option == question.answer:\n",
        "                    hovertext += f'<span style=\"color: yellow;\">{option}</span><br>'\n",
        "                else:\n",
        "                    hovertext += f'{option}<br>'\n",
        "            hovertexts.append(hovertext)\n",
        "\n",
        "\n",
        "    fig.add_trace(\n",
        "        go.Scatter(\n",
        "            x=x_pos_year, y=y_positions,\n",
        "            mode='text', text=all_question_numbers, textfont=dict(size=14),\n",
        "            hovertext=hovertexts, hoverinfo='text',\n",
        "        )\n",
        "    )\n",
        "\n",
        "    max_stack_pos = max(y_positions) if y_positions else 0\n",
        "    fig.update_layout(\n",
        "        title='Questions with Year',\n",
        "        xaxis=dict(title='Year', type='category', categoryorder='category ascending'),\n",
        "        yaxis=dict(visible=False),\n",
        "    )\n",
        "\n",
        "    fig.show()\n",
        "\n",
        "plot_chronological_questions(year_to_question_numbers, question_number_to_question_data)"
      ],
      "metadata": {
        "id": "MlqpY2Dhyo0A"
      },
      "execution_count": null,
      "outputs": []
    },
    {
      "cell_type": "markdown",
      "source": [
        "## Get the failure rate"
      ],
      "metadata": {
        "id": "CZK1NKLxvHPZ"
      }
    },
    {
      "cell_type": "markdown",
      "source": [
        "Please dont call `get_failure_rates()` too many times or else you will cause all the failure rates to be .75 or 3/4 since it selects one option randomly from 4 choices.\n",
        "\n",
        "I have already saved the precomputed failure rates and assigned it to the `failure_rates` variable as a numpy array. Use that instead."
      ],
      "metadata": {
        "id": "chTQFTsKBKrA"
      }
    },
    {
      "cell_type": "code",
      "source": [
        "def get_failure_rates():\n",
        "    total_questions = 310\n",
        "    failure_rates = -np.ones(total_questions)\n",
        "    failure_rates_pbar = tqdm(total=total_questions, desc='questions seen')\n",
        "    url = 'https://www.lebenindeutschland.eu/test/by'\n",
        "\n",
        "    while not np.all(failure_rates >= 0):\n",
        "        session = requests.Session()\n",
        "        # Mocks the exam which has 33 questions. The last 3 which are state specific.\n",
        "        for question_num in tqdm(range(33), desc='taking the test', leave=False):\n",
        "            # Get the current question page\n",
        "            response_get = session.get(url)\n",
        "            soup_before = BeautifulSoup(response_get.content, 'html.parser')\n",
        "\n",
        "            # Find the form and extract data\n",
        "            form = soup_before.select_one('form[method=\"post\"]')\n",
        "            form_action = form.get('action')\n",
        "\n",
        "            hidden_inputs = {}\n",
        "            for input_tag in form.select('input[type=\"hidden\"]'):\n",
        "                hidden_inputs[input_tag.get('name')] = input_tag.get('value')\n",
        "\n",
        "            options = form.select('input[type=\"radio\"][name=\"question-answer\"]')\n",
        "            # Select a random option.\n",
        "            selected_answer_value = options[np.random.randint(4)].get('value')\n",
        "\n",
        "            # Prepare POST data\n",
        "            post_data = hidden_inputs\n",
        "            post_data['question-answer'] = selected_answer_value\n",
        "\n",
        "            # Submit the answer\n",
        "            response_post = session.post(form_action, data=post_data)\n",
        "            soup_after = BeautifulSoup(response_post.content, 'html.parser')\n",
        "\n",
        "            # Extract Fehlerquote from the response page, this element appears after submission.\n",
        "            fehlerquote_element = soup_after.select_one('p.text-right.text-sm')\n",
        "            # 'Frage №\\u200929.\\n            Fehlerquote: 6,4%'\n",
        "            fehlerquote_and_ques = fehlerquote_element.get_text(strip=True)\n",
        "            question_text, fehlerquote_text = fehlerquote_and_ques.split('Fehlerquote: ')\n",
        "            # Subtract 1 from ques num because arr indices start from 0.\n",
        "            question_index = int(question_text.split('\\u2009')[1].split('.\\n')[0]) - 1\n",
        "            if question_num >= 30:  # Last 3 questions are state specific.\n",
        "                question_index += 300\n",
        "            fehlerquote_text = fehlerquote_text.split('Fehlerquote: ')[-1][:-1]\n",
        "            # German has comma ',' instead of point'.'.\n",
        "            fehlerquote_value = float(fehlerquote_text.replace(',', '.')) / 100\n",
        "            failure_rates[question_index] = fehlerquote_value\n",
        "\n",
        "            # Updates the progress bar.\n",
        "            filled_count = np.sum(failure_rates >= 0)\n",
        "            failure_rates_pbar.n = filled_count\n",
        "            failure_rates_pbar.refresh()\n",
        "    return failure_rates\n",
        "\n",
        "# failure_rates = get_failure_rates()\n",
        "# print(list(map(float, np.round(failure_rates, 15))))"
      ],
      "metadata": {
        "id": "6PKriP0mvHZz"
      },
      "execution_count": null,
      "outputs": []
    },
    {
      "cell_type": "code",
      "source": [
        "# Precomputed failure rates.\n",
        "question_number_to_failure_rate = {1: 0.209, 2: 0.152, 3: 0.114, 4: 0.08, 5: 0.204, 6: 0.217, 7: 0.174, 8: 0.185, 9: 0.068, 10: 0.113, 11: 0.271, 12: 0.208, 13: 0.461, 14: 0.308, 15: 0.241, 16: 0.279, 17: 0.312, 18: 0.469, 19: 0.286, 20: 0.315, 21: 0.098, 22: 0.105, 23: 0.224, 24: 0.093, 25: 0.242, 26: 0.081, 27: 0.156, 28: 0.157, 29: 0.064, 30: 0.243, 31: 0.293, 32: 0.183, 33: 0.343, 34: 0.09, 35: 0.085, 36: 0.136, 37: 0.147, 38: 0.065, 39: 0.283, 40: 0.156, 41: 0.122, 42: 0.273, 43: 0.213, 44: 0.364, 45: 0.107, 46: 0.12, 47: 0.132, 48: 0.409, 49: 0.196, 50: 0.324, 51: 0.236, 52: 0.174, 53: 0.35, 54: 0.399, 55: 0.255, 56: 0.221, 57: 0.407, 58: 0.354, 59: 0.264, 60: 0.409, 61: 0.25, 62: 0.471, 63: 0.336, 64: 0.229, 65: 0.473, 66: 0.111, 67: 0.281, 68: 0.31, 69: 0.259, 70: 0.295, 71: 0.093, 72: 0.055, 73: 0.235, 74: 0.124, 75: 0.095, 76: 0.133, 77: 0.143, 78: 0.157, 79: 0.147, 80: 0.287, 81: 0.346, 82: 0.368, 83: 0.315, 84: 0.298, 85: 0.601, 86: 0.58, 87: 0.394, 88: 0.344, 89: 0.269, 90: 0.602, 91: 0.453, 92: 0.12, 93: 0.325, 94: 0.114, 95: 0.095, 96: 0.225, 97: 0.098, 98: 0.46, 99: 0.199, 100: 0.233, 101: 0.289, 102: 0.416, 103: 0.287, 104: 0.151, 105: 0.194, 106: 0.184, 107: 0.056, 108: 0.099, 109: 0.198, 110: 0.229, 111: 0.285, 112: 0.135, 113: 0.276, 114: 0.153, 115: 0.236, 116: 0.174, 117: 0.086, 118: 0.193, 119: 0.213, 120: 0.249, 121: 0.095, 122: 0.215, 123: 0.245, 124: 0.474, 125: 0.347, 126: 0.335, 127: 0.424, 128: 0.406, 129: 0.331, 130: 0.105, 131: 0.194, 132: 0.139, 133: 0.148, 134: 0.262, 135: 0.12, 136: 0.065, 137: 0.123, 138: 0.21, 139: 0.21, 140: 0.228, 141: 0.287, 142: 0.287, 143: 0.205, 144: 0.197, 145: 0.261, 146: 0.18, 147: 0.202, 148: 0.251, 149: 0.212, 150: 0.26, 151: 0.119, 152: 0.067, 153: 0.138, 154: 0.153, 155: 0.129, 156: 0.162, 157: 0.073, 158: 0.177, 159: 0.325, 160: 0.054, 161: 0.305, 162: 0.211, 163: 0.241, 164: 0.272, 165: 0.219, 166: 0.23, 167: 0.17, 168: 0.166, 169: 0.297, 170: 0.38, 171: 0.282, 172: 0.097, 173: 0.144, 174: 0.22, 175: 0.296, 176: 0.336, 177: 0.089, 178: 0.226, 179: 0.298, 180: 0.204, 181: 0.182, 182: 0.113, 183: 0.243, 184: 0.363, 185: 0.286, 186: 0.273, 187: 0.135, 188: 0.205, 189: 0.176, 190: 0.064, 191: 0.166, 192: 0.239, 193: 0.116, 194: 0.19, 195: 0.213, 196: 0.193, 197: 0.172, 198: 0.252, 199: 0.324, 200: 0.244, 201: 0.215, 202: 0.164, 203: 0.406, 204: 0.306, 205: 0.345, 206: 0.199, 207: 0.175, 208: 0.238, 209: 0.338, 210: 0.432, 211: 0.402, 212: 0.092, 213: 0.096, 214: 0.16, 215: 0.392, 216: 0.176, 217: 0.276, 218: 0.344, 219: 0.272, 220: 0.336, 221: 0.212, 222: 0.048, 223: 0.053, 224: 0.076, 225: 0.076, 226: 0.019, 227: 0.127, 228: 0.339, 229: 0.071, 230: 0.096, 231: 0.144, 232: 0.307, 233: 0.089, 234: 0.153, 235: 0.213, 236: 0.196, 237: 0.224, 238: 0.052, 239: 0.26, 240: 0.135, 241: 0.136, 242: 0.115, 243: 0.162, 244: 0.087, 245: 0.033, 246: 0.076, 247: 0.12, 248: 0.09, 249: 0.072, 250: 0.1, 251: 0.166, 252: 0.201, 253: 0.215, 254: 0.189, 255: 0.114, 256: 0.162, 257: 0.136, 258: 0.159, 259: 0.273, 260: 0.28, 261: 0.128, 262: 0.273, 263: 0.276, 264: 0.197, 265: 0.184, 266: 0.031, 267: 0.086, 268: 0.074, 269: 0.073, 270: 0.182, 271: 0.105, 272: 0.092, 273: 0.146, 274: 0.188, 275: 0.184, 276: 0.105, 277: 0.086, 278: 0.124, 279: 0.199, 280: 0.216, 281: 0.212, 282: 0.198, 283: 0.261, 284: 0.205, 285: 0.271, 286: 0.229, 287: 0.17, 288: 0.305, 289: 0.135, 290: 0.198, 291: 0.27, 292: 0.108, 293: 0.125, 294: 0.147, 295: 0.047, 296: 0.148, 297: 0.158, 298: 0.203, 299: 0.145, 300: 0.274, 301: 0.033, 302: 0.131, 303: 0.283, 304: 0.076, 305: 0.058, 306: 0.169, 307: 0.016, 308: 0.03, 309: 0.16, 310: 0.113}\n",
        "# print question number with max failure rate\n",
        "max_failure_rate = max(question_number_to_failure_rate.values())\n",
        "print('question numbers with max failure rate of', max_failure_rate)\n",
        "for question_number, failure_rate in question_number_to_failure_rate.items():\n",
        "    if failure_rate == max_failure_rate:\n",
        "        print(question_number)\n",
        "\n",
        "# Update questions with failure rates\n",
        "for question_number, failure_rate in question_number_to_failure_rate.items():\n",
        "    question_number_to_question_data[question_number].failure_rate = failure_rate\n",
        "\n",
        "filter_name_to_question_numbers |= {\n",
        "    'tough questions': filter_questions(\n",
        "        question_number_to_question_data.values(),\n",
        "        filter_func=lambda failure_rate: failure_rate > 0.4, filter_option=FilterOption.FAILURE_RATE\n",
        "    )\n",
        "}"
      ],
      "metadata": {
        "id": "yiG6uWkq656u"
      },
      "execution_count": null,
      "outputs": []
    },
    {
      "cell_type": "markdown",
      "source": [
        "Using heatmap since the data is of a matrix form. \\\n",
        "Still the upper visualization is more useful because the hover is only for plotted values."
      ],
      "metadata": {
        "id": "1ijDX-3wxh7w"
      }
    },
    {
      "cell_type": "code",
      "source": [
        "def plot_questions_heatmap(\n",
        "    question_number_to_data: dict[int, QuestionData],\n",
        "    filter_name_to_question_numbers: dict[str, list[int]]\n",
        "):\n",
        "    fig = go.Figure()\n",
        "\n",
        "    # Initialize empty matrices for data and text.\n",
        "    heatmap = np.zeros((30, 11))\n",
        "    textmap = np.full((30, 11), '', dtype='object')\n",
        "    hovertextmap = np.full((30, 11), '', dtype='object')\n",
        "\n",
        "    # Create a heatmap trace for each filter\n",
        "    for fig_index, (filter_name, question_numbers) in enumerate(\n",
        "        filter_name_to_question_numbers.items()\n",
        "    ):\n",
        "        if len(question_numbers) == 0:  # No questions found for this word.\n",
        "            fig.add_trace(go.Heatmap(z=np.zeros((30, 10)), visible=False))\n",
        "            continue\n",
        "\n",
        "        bin_indices = (question_numbers-1) // 30\n",
        "        heights = (question_numbers-1) % 30\n",
        "\n",
        "        heatmap[:], textmap[:], hovertextmap[:] = 0, '', ''  # Reset the matrices.\n",
        "        heatmap[heights, bin_indices] = 1\n",
        "\n",
        "        for i, question_data in enumerate([\n",
        "            question_number_to_data[question_number]\n",
        "            for question_number in question_numbers\n",
        "        ]):\n",
        "            hovertext = question_data.num_with_text + '<br><br>'\n",
        "            for option in question_data.options:\n",
        "                if option == question_data.answer:\n",
        "                    hovertext += f'<span style=\"color: yellow;\">{option}</span><br>'\n",
        "                else:\n",
        "                    hovertext += f'{option}<br>'\n",
        "            hovertext += '<br>Failure rate: ' + str(question_data.failure_rate)\n",
        "\n",
        "            # Assign to arrays\n",
        "            textmap[heights[i], bin_indices[i]] = question_data.number\n",
        "            hovertextmap[heights[i], bin_indices[i]] = hovertext\n",
        "            heatmap[heights[i], bin_indices[i]] = str(question_data.failure_rate)\n",
        "\n",
        "        # Add heatmap trace\n",
        "        fig.add_trace(\n",
        "            go.Heatmap(\n",
        "                z=heatmap,\n",
        "                x=30 * np.arange(10),\n",
        "                text=textmap,\n",
        "                texttemplate=\"%{text}\",\n",
        "                colorscale='Viridis',\n",
        "                colorbar=dict(title='Failure rate'),\n",
        "                textfont=dict(size=14),\n",
        "                hovertext=hovertextmap,\n",
        "                hoverinfo='text',\n",
        "                visible=(fig_index==0)  # Only first trace visible initially\n",
        "            )\n",
        "        )\n",
        "\n",
        "\n",
        "    # Create dropdown buttons\n",
        "    dropdown_buttons = []\n",
        "    for i, filter_name in enumerate(filter_name_to_question_numbers):\n",
        "        visibility = [False] * len(filter_name_to_question_numbers)\n",
        "        visibility[i] = True\n",
        "\n",
        "        if filter_name.startswith('q_'):\n",
        "            title = f'Questions containing \"{filter_name[2:]}\"'\n",
        "        elif filter_name.startswith('o_'):\n",
        "            title = f'Options containing \"{filter_name[2:]}\"'\n",
        "        elif 'option' in filter_name:  # Special case for numeric options.\n",
        "            title = f'Questions containing {filter_name}'\n",
        "        else:\n",
        "            title = filter_name\n",
        "        dropdown_buttons.append(\n",
        "            dict(\n",
        "                label=filter_name,\n",
        "                method='update',\n",
        "                args=[{'visible': visibility}, {'title': title}],\n",
        "            )\n",
        "        )\n",
        "\n",
        "    tick_vals = 30 * np.arange(11)\n",
        "    fig.update_layout(\n",
        "        xaxis=dict(title='Question number', tickvals=tick_vals, ticktext=tick_vals),\n",
        "        yaxis=dict(visible=False), updatemenus=[dict(buttons=dropdown_buttons, x=0.0)],\n",
        "        title=dropdown_buttons[0]['args'][1]['title'] if dropdown_buttons else '',\n",
        "    )\n",
        "    fig.show()\n",
        "\n",
        "\n",
        "plot_questions_heatmap(question_number_to_question_data, filter_name_to_question_numbers)"
      ],
      "metadata": {
        "id": "-HzNXez5ylsv"
      },
      "execution_count": null,
      "outputs": []
    },
    {
      "cell_type": "code",
      "source": [],
      "metadata": {
        "id": "DrAnFG4uc5B9"
      },
      "execution_count": null,
      "outputs": []
    }
  ]
}